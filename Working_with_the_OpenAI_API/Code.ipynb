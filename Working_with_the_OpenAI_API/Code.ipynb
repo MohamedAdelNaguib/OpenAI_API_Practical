{
 "cells": [
  {
   "cell_type": "markdown",
   "metadata": {},
   "source": [
    "# Completions Endpoint"
   ]
  },
  {
   "cell_type": "markdown",
   "metadata": {},
   "source": [
    "### Completions endpoint is used for single turn tasks. Such tasks does not require multiple turns to get the final answer, for example, classification tasks."
   ]
  },
  {
   "cell_type": "code",
   "execution_count": 6,
   "metadata": {},
   "outputs": [],
   "source": [
    "from dotenv import load_dotenv\n",
    "import os\n",
    "from openai import OpenAI\n",
    "\n",
    "# Load environment variables from .env file\n",
    "load_dotenv()\n",
    "\n",
    "# Access the API key from environment variables\n",
    "api_key = os.getenv('OPENAI_API_KEY')\n",
    "client = OpenAI(api_key=api_key)\n"
   ]
  },
  {
   "cell_type": "markdown",
   "metadata": {},
   "source": [
    "### Understanding Tokens\n",
    "In English:\n",
    "1 token ~ 4 characters\n",
    "100 tokens ~ 75 words\n",
    "\n",
    "Example: 150 words -> nax_tokens = 200\n",
    "\n",
    "### Understading Temperature Parameter\n",
    "\n",
    "Output of LLMs  is often non-deterministic. You can control such behavior using `temperature`.\n",
    "It ranges from 0 to 2. where 0 mean fully deterministic output and 2 is fully random output. \n",
    "The default value of it is 1.\n"
   ]
  },
  {
   "cell_type": "code",
   "execution_count": 7,
   "metadata": {},
   "outputs": [],
   "source": [
    "def get_response(prompt, temperature = 1 , max_tokens = 30 ,model = \"gpt-3.5-turbo-instruct\"):\n",
    "    return client.completions.create(\n",
    "    model = model,\n",
    "    prompt = prompt,\n",
    "    temperature = temperature,\n",
    "    max_tokens=max_tokens\n",
    ")\n"
   ]
  },
  {
   "cell_type": "markdown",
   "metadata": {},
   "source": [
    "### To convert the response object into dictionary use : `response.model_dump()`"
   ]
  },
  {
   "cell_type": "code",
   "execution_count": 14,
   "metadata": {},
   "outputs": [
    {
     "name": "stdout",
     "output_type": "stream",
     "text": [
      "The OpenAI API is a platform that allows developers to access and utilize OpenAI's artificial intelligence technology in their software or applications. It provides an\n"
     ]
    }
   ],
   "source": [
    "prompt = \"What is the OpenAI API?\"\n",
    "\n",
    "\n"
   ]
  },
  {
   "cell_type": "markdown",
   "metadata": {},
   "source": [
    "### Text Completions for classification tasks usin In-context Learning"
   ]
  },
  {
   "cell_type": "code",
   "execution_count": 17,
   "metadata": {},
   "outputs": [
    {
     "name": "stdout",
     "output_type": "stream",
     "text": [
      "1- Positive\n",
      "2- Negative\n",
      "3- Neutral\n",
      "4- Positive\n"
     ]
    }
   ],
   "source": [
    "prompt = \"\"\"\n",
    "Classify the sentiment of the following sentences give the three labels: negative, positive, or neutral.\n",
    "1- Unbelievably good!\n",
    "2- Shoes fell apart on the second use.\n",
    "3- The shoes look nice, but they aren't very comfortable.\n",
    "4- Can't wait to show them off!\n",
    "\"\"\"\n",
    "response = get_response(prompt)\n",
    "print(response.choices[0].text.strip())"
   ]
  }
 ],
 "metadata": {
  "kernelspec": {
   "display_name": "base",
   "language": "python",
   "name": "python3"
  },
  "language_info": {
   "codemirror_mode": {
    "name": "ipython",
    "version": 3
   },
   "file_extension": ".py",
   "mimetype": "text/x-python",
   "name": "python",
   "nbconvert_exporter": "python",
   "pygments_lexer": "ipython3",
   "version": "3.11.5"
  }
 },
 "nbformat": 4,
 "nbformat_minor": 2
}
