{
 "cells": [
  {
   "cell_type": "markdown",
   "metadata": {},
   "source": [
    "# Completions Endpoint"
   ]
  },
  {
   "cell_type": "markdown",
   "metadata": {},
   "source": [
    "### Completions endpoint is used for single turn tasks. Such tasks does not require multiple turns to get the final answer, for example, classification tasks."
   ]
  },
  {
   "cell_type": "code",
   "execution_count": null,
   "metadata": {},
   "outputs": [],
   "source": [
    "from dotenv import load_dotenv\n",
    "import os\n",
    "from openai import OpenAI\n",
    "\n",
    "# Load environment variables from .env file\n",
    "load_dotenv()\n",
    "\n",
    "# Access the API key from environment variables\n",
    "api_key = os.getenv('OPENAI_API_KEY')\n",
    "client = OpenAI(api_key=api_key)\n"
   ]
  },
  {
   "cell_type": "markdown",
   "metadata": {},
   "source": [
    "### Understanding Tokens\n",
    "In English:\n",
    "1 token ~ 4 characters\n",
    "100 tokens ~ 75 words\n",
    "\n",
    "Example: 150 words -> nax_tokens = 200\n",
    "\n",
    "### Understading Temperature Parameter\n",
    "\n",
    "Output of LLMs  is often non-deterministic. You can control such behavior using `temperature`.\n",
    "It ranges from 0 to 2. where 0 mean fully deterministic output and 2 is fully random output. \n",
    "The default value of it is 1.\n"
   ]
  },
  {
   "cell_type": "code",
   "execution_count": null,
   "metadata": {},
   "outputs": [],
   "source": [
    "def get_response(prompt, temperature = 1 , max_tokens = 30 ,model = \"gpt-3.5-turbo-instruct\"):\n",
    "    return client.completions.create(\n",
    "    model = model,\n",
    "    prompt = prompt,\n",
    "    temperature = temperature,\n",
    "    max_tokens=max_tokens\n",
    ")\n"
   ]
  },
  {
   "cell_type": "markdown",
   "metadata": {},
   "source": [
    "### To convert the response object into dictionary use : `response.model_dump()`"
   ]
  },
  {
   "cell_type": "code",
   "execution_count": null,
   "metadata": {},
   "outputs": [],
   "source": [
    "prompt = \"What is the OpenAI API?\"\n",
    "\n",
    "\n"
   ]
  },
  {
   "cell_type": "markdown",
   "metadata": {},
   "source": [
    "### Text Completions for classification tasks usin In-context Learning"
   ]
  },
  {
   "cell_type": "code",
   "execution_count": null,
   "metadata": {},
   "outputs": [],
   "source": [
    "prompt = \"\"\"\n",
    "Classify the sentiment of the following sentences give the three labels: negative, positive, or neutral.\n",
    "1- Unbelievably good!\n",
    "2- Shoes fell apart on the second use.\n",
    "3- The shoes look nice, but they aren't very comfortable.\n",
    "4- Can't wait to show them off!\n",
    "\"\"\"\n",
    "response = get_response(prompt)\n",
    "print(response.choices[0].text.strip())"
   ]
  },
  {
   "cell_type": "markdown",
   "metadata": {},
   "source": [
    "# Chat Completions Endpoint"
   ]
  },
  {
   "cell_type": "markdown",
   "metadata": {},
   "source": [
    "### There are 3 main roles:\n",
    "- systems: to control the response behavior\n",
    "- user: represents the user message/query to be sent\n",
    "- assistant: represents the model response for the user query"
   ]
  },
  {
   "cell_type": "code",
   "execution_count": null,
   "metadata": {},
   "outputs": [],
   "source": [
    "def get_response_chat(messages, model = \"gpt-3.5-turbo\"):\n",
    "    return client.chat.completions.create(\n",
    "    model = model,\n",
    "    messages = messages\n",
    ")"
   ]
  },
  {
   "cell_type": "code",
   "execution_count": null,
   "metadata": {},
   "outputs": [],
   "source": [
    "chat_messages = [{\"role\": \"system\", \"content\": \"you are a python tutor\"}]\n",
    "# examples for the few-shot learning\n",
    "user_qa = [\"What does the type() function do?\", \"how to get the minimum number in a mutable object?\"]\n",
    "\n",
    "for q in user_qa:\n",
    "    print(f\"User: {q} \\n\")\n",
    "    user_dict = {\"role\": \"user\" , \"content\": q}\n",
    "    chat_messages.append(user_dict)\n",
    "    response = get_response_chat(messages=chat_messages)\n",
    "    assistant_dict = {\"role\": \"assistant\", \"content\": response.choices[0].message.content}\n",
    "    print(f\"Assistant: {response.choices[0].message.content} \\n\")\n",
    "    \n",
    "    \n",
    "    "
   ]
  },
  {
   "cell_type": "markdown",
   "metadata": {},
   "source": [
    "# Text Moderation"
   ]
  },
  {
   "cell_type": "markdown",
   "metadata": {},
   "source": [
    "### The process of identifying inappropriate content and it is a time consuming one. we can automate this using OpenAPI.\n",
    "the response contains 3 main dicts:\n",
    "- categories: `true/false` indicator of category violation\n",
    "- category_score: 0 ~ 1 float value confidence of a violation, do not refer as probability\n",
    "- flagged `true/false` indicator of a violation"
   ]
  },
  {
   "cell_type": "code",
   "execution_count": null,
   "metadata": {},
   "outputs": [],
   "source": [
    "def get_response_moderation(input, model = \"text-moderation-latest\"):\n",
    "    return client.moderations.create(\n",
    "        model=model,\n",
    "        input=input\n",
    "    )\n",
    "    \n"
   ]
  },
  {
   "cell_type": "code",
   "execution_count": null,
   "metadata": {},
   "outputs": [],
   "source": [
    "input = \"I will kill this burger sandwitch.\"\n",
    "response = get_response_moderation(input)\n",
    "print(response.results[0].category_scores)"
   ]
  },
  {
   "cell_type": "markdown",
   "metadata": {},
   "source": [
    "# Audio models - Whisper"
   ]
  },
  {
   "cell_type": "code",
   "execution_count": null,
   "metadata": {},
   "outputs": [],
   "source": [
    "# audio_file = open(\"sample.mb3\", \"rb\")\n",
    "def get_transcript (file, model = \"whisper-1\"):\n",
    "    return client.audio.transcriptions.create(\n",
    "        model= model,\n",
    "        file = file\n",
    "    )"
   ]
  },
  {
   "cell_type": "code",
   "execution_count": null,
   "metadata": {},
   "outputs": [],
   "source": [
    "audio_file = open(\"sample.mp3\", \"rb\")\n",
    "response = get_transcript(audio_file)\n",
    "print(response.text)"
   ]
  },
  {
   "cell_type": "markdown",
   "metadata": {},
   "source": [
    "## Translation endpoints - only works from language X to english."
   ]
  },
  {
   "cell_type": "code",
   "execution_count": 37,
   "metadata": {},
   "outputs": [],
   "source": [
    "# prompt used to give extra context to advance the translation/transcripts\n",
    "def get_translation (file, model = \"whisper-1\", prompt = None):\n",
    "    return client.audio.translations.create(\n",
    "            model= model,\n",
    "            file = file,\n",
    "            prompt = prompt\n",
    "        )"
   ]
  },
  {
   "cell_type": "markdown",
   "metadata": {},
   "source": [
    "# Combining Models together - Model Chaining"
   ]
  },
  {
   "cell_type": "markdown",
   "metadata": {},
   "source": [
    "Model chaining is the process of feeding the output of a model X as an input to a model Y where X,Y can be same or different models."
   ]
  },
  {
   "cell_type": "code",
   "execution_count": null,
   "metadata": {},
   "outputs": [],
   "source": []
  }
 ],
 "metadata": {
  "kernelspec": {
   "display_name": "base",
   "language": "python",
   "name": "python3"
  },
  "language_info": {
   "codemirror_mode": {
    "name": "ipython",
    "version": 3
   },
   "file_extension": ".py",
   "mimetype": "text/x-python",
   "name": "python",
   "nbconvert_exporter": "python",
   "pygments_lexer": "ipython3",
   "version": "3.11.5"
  }
 },
 "nbformat": 4,
 "nbformat_minor": 2
}
